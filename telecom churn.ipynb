{
 "cells": [
  {
   "cell_type": "code",
   "execution_count": null,
   "id": "31f74d7c-ef94-488c-a435-f770960b97ec",
   "metadata": {},
   "outputs": [],
   "source": [
    "## Data Cleaning and Preparation"
   ]
  },
  {
   "cell_type": "code",
   "execution_count": null,
   "id": "d94d41f8-b65c-4fa7-8c5c-3daa3bd3a306",
   "metadata": {},
   "outputs": [],
   "source": [
    "import pandas as pd\n",
    "import numpy as np\n",
    "import matplotlib.pyplot as plt\n",
    "import seaborn as sns\n",
    "from sklearn.model_selection import train_test_split\n",
    "from sklearn import metrics"
   ]
  },
  {
   "cell_type": "code",
   "execution_count": null,
   "id": "e27e12f1-1399-4360-a0d4-95a38932e828",
   "metadata": {},
   "outputs": [],
   "source": [
    "df = pd.read_csv('telecom_customer_churn.csv')\n",
    "df.head(5)"
   ]
  },
  {
   "cell_type": "code",
   "execution_count": null,
   "id": "2f1b2012-6cb8-4ef9-9f13-3da8fed1169a",
   "metadata": {},
   "outputs": [],
   "source": [
    "df.columns"
   ]
  },
  {
   "cell_type": "code",
   "execution_count": null,
   "id": "e9d61078-f8a4-4c4a-bd3b-523f60e219d8",
   "metadata": {},
   "outputs": [],
   "source": [
    "df.shape"
   ]
  },
  {
   "cell_type": "code",
   "execution_count": null,
   "id": "5b3a4ad3-422c-4fa3-b702-e107f786f502",
   "metadata": {},
   "outputs": [],
   "source": [
    "df.isna().sum()"
   ]
  },
  {
   "cell_type": "code",
   "execution_count": null,
   "id": "94b88d25-df9b-47d7-abf5-0ea20bc36f26",
   "metadata": {},
   "outputs": [],
   "source": [
    "cleaned_data = df.drop_duplicates()"
   ]
  },
  {
   "cell_type": "code",
   "execution_count": null,
   "id": "8d396717-d345-4369-9200-60f7e9ecab6a",
   "metadata": {},
   "outputs": [],
   "source": [
    "df.describe()"
   ]
  },
  {
   "cell_type": "code",
   "execution_count": null,
   "id": "fb78ff3d-0d12-46eb-8e4e-7bd19cb9e614",
   "metadata": {},
   "outputs": [],
   "source": [
    "sns.pairplot(df)"
   ]
  },
  {
   "cell_type": "code",
   "execution_count": null,
   "id": "5042d689-174c-4c35-a4b3-59b91d61b64a",
   "metadata": {},
   "outputs": [],
   "source": [
    "plt.boxplot(df['tenure'])"
   ]
  },
  {
   "cell_type": "code",
   "execution_count": null,
   "id": "9646c2c4-807c-4f2d-944c-91d5bbb04a25",
   "metadata": {},
   "outputs": [],
   "source": [
    "plt.boxplot(df['MonthlyCharges'])"
   ]
  },
  {
   "cell_type": "code",
   "execution_count": null,
   "id": "7e2a3909-2bdf-4697-9d7f-28f9bc566c77",
   "metadata": {},
   "outputs": [],
   "source": [
    "x = df.drop('Churn', axis=1)\n",
    "y = df['Churn']"
   ]
  },
  {
   "cell_type": "code",
   "execution_count": null,
   "id": "cb7a4451-2d71-4013-8f85-b63e94a20573",
   "metadata": {},
   "outputs": [],
   "source": [
    "X_train, x_test, Y_train, y_test = train_test_split(x, y, test_size=0.2, random_state=42)"
   ]
  },
  {
   "cell_type": "code",
   "execution_count": null,
   "id": "f73466ba-92ed-46d3-8943-4cb09f65559e",
   "metadata": {},
   "outputs": [],
   "source": [
    "X_train.shape"
   ]
  },
  {
   "cell_type": "code",
   "execution_count": null,
   "id": "9838f714-ddf2-46ac-a919-957f347f7b99",
   "metadata": {},
   "outputs": [],
   "source": [
    "Y_train.shape"
   ]
  },
  {
   "cell_type": "code",
   "execution_count": null,
   "id": "f10e6454-b9dd-406f-a576-37a7eb99770a",
   "metadata": {},
   "outputs": [],
   "source": [
    "# Export cleaed dataset\n",
    "df.to_csv('Cleaned_telecom_customer_churn.csv', index=False)"
   ]
  },
  {
   "cell_type": "code",
   "execution_count": null,
   "id": "bfecaec2-2072-4067-81e0-11ad3119bf4a",
   "metadata": {},
   "outputs": [],
   "source": []
  },
  {
   "cell_type": "code",
   "execution_count": null,
   "id": "b01486bd-6afd-4300-9e51-40413fae511f",
   "metadata": {},
   "outputs": [],
   "source": []
  }
 ],
 "metadata": {
  "kernelspec": {
   "display_name": "Python 3 (ipykernel)",
   "language": "python",
   "name": "python3"
  },
  "language_info": {
   "codemirror_mode": {
    "name": "ipython",
    "version": 3
   },
   "file_extension": ".py",
   "mimetype": "text/x-python",
   "name": "python",
   "nbconvert_exporter": "python",
   "pygments_lexer": "ipython3",
   "version": "3.12.1"
  }
 },
 "nbformat": 4,
 "nbformat_minor": 5
}
