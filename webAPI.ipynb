{
 "cells": [
  {
   "cell_type": "code",
   "execution_count": null,
   "id": "3e8580c5-439c-4859-be66-1b00a79a7169",
   "metadata": {},
   "outputs": [],
   "source": [
    "## Interacting with Web API"
   ]
  },
  {
   "cell_type": "code",
   "execution_count": null,
   "id": "517b6692-3d79-4545-8b68-665ca0fee8c2",
   "metadata": {},
   "outputs": [],
   "source": [
    "import requests\n",
    "import pandas as pd\n",
    "import datetime\n",
    "import matplotlib.pyplot as plt"
   ]
  },
  {
   "cell_type": "code",
   "execution_count": null,
   "id": "fd961a17-2064-4e35-9ec0-cdc70ef3bd92",
   "metadata": {},
   "outputs": [],
   "source": [
    "api_key = \"bd4debe75858698ff9a9c54d7f4d4eab\""
   ]
  },
  {
   "cell_type": "code",
   "execution_count": null,
   "id": "243c20e5-aa45-4674-a971-e167f5d12a76",
   "metadata": {},
   "outputs": [],
   "source": [
    "lat = 18.184135\n",
    "lon = 74.610764"
   ]
  },
  {
   "cell_type": "code",
   "execution_count": null,
   "id": "66e2428e-29cc-41b9-a1fa-2357d0ac9fd5",
   "metadata": {},
   "outputs": [],
   "source": [
    "api_url = f\"https://api.openweathermap.org/data/2.5/forecast?lat={lat}&lon={lon}&appid={api_key}\""
   ]
  },
  {
   "cell_type": "code",
   "execution_count": null,
   "id": "80af71b5-cbec-43fb-bc99-bf2af3fee733",
   "metadata": {},
   "outputs": [],
   "source": [
    "response = requests.get(api_url)\n",
    "weather_data =  response.json()\n",
    "# print(weather_data['list'])\n",
    "weather_data.keys()\n"
   ]
  },
  {
   "cell_type": "code",
   "execution_count": null,
   "id": "22c89bad-ee99-4f17-a662-913e34a140be",
   "metadata": {},
   "outputs": [],
   "source": [
    "len(weather_data['list'])\n",
    "weather_data['list'][0]['weather'][0]['description']"
   ]
  },
  {
   "cell_type": "code",
   "execution_count": null,
   "id": "482ab1fb-9894-4227-8129-67aaa693c78e",
   "metadata": {},
   "outputs": [],
   "source": [
    "temps = [item['main']['temp'] for item in weather_data['list']]"
   ]
  },
  {
   "cell_type": "code",
   "execution_count": null,
   "id": "3ef71439-f057-42a9-abed-85cd7fcd0c7a",
   "metadata": {},
   "outputs": [],
   "source": [
    "timestamps = [pd.to_datetime(item['dt'], unit='s') for item in weather_data['list']]"
   ]
  },
  {
   "cell_type": "code",
   "execution_count": null,
   "id": "994c9b30-52de-4748-8037-431f9ef8870b",
   "metadata": {},
   "outputs": [],
   "source": [
    "temperature = [item['main']['temp'] for item in weather_data['list']]\n",
    "humidity = [item['main']['humidity'] for item in weather_data['list']]\n",
    "wind_speed = [item['wind']['speed'] for item in weather_data['list']]\n",
    "weather = [item['weather'][0]['description'] for item in weather_data['list']]"
   ]
  },
  {
   "cell_type": "code",
   "execution_count": null,
   "id": "ee6216e8-31c0-44b7-b0c8-f32c5c14f0c1",
   "metadata": {},
   "outputs": [],
   "source": [
    "weather_df = pd.DataFrame({\n",
    "    'Timestamp':timestamps,\n",
    "    'Temperature': temperature,\n",
    "    'humidity':humidity,\n",
    "    'Wind Speed':wind_speed,\n",
    "    'Weather':weather\n",
    "})"
   ]
  },
  {
   "cell_type": "code",
   "execution_count": null,
   "id": "725c7170-ac49-42a8-b143-0c760fe37d0e",
   "metadata": {},
   "outputs": [],
   "source": [
    "weather_df.set_index('Timestamp', inplace=True)"
   ]
  },
  {
   "cell_type": "code",
   "execution_count": null,
   "id": "b68615b2-72d8-4195-a4d7-edec6c6a9101",
   "metadata": {},
   "outputs": [],
   "source": [
    "weather_df['Temperature'] = weather_df['Temperature'].apply(lambda x:x-273.15)"
   ]
  },
  {
   "cell_type": "code",
   "execution_count": null,
   "id": "dc86f061-c19e-4ebe-ba86-0712784265dc",
   "metadata": {},
   "outputs": [],
   "source": [
    "print(weather_df)"
   ]
  },
  {
   "cell_type": "code",
   "execution_count": null,
   "id": "6ca590c5-b8ca-4739-87be-3d70170b3236",
   "metadata": {},
   "outputs": [],
   "source": [
    "daily_mean_temp = weather_df['Temperature'].resample('D').mean()\n",
    "daily_mean_humidity = weather_df['humidity'].resample('D').mean()\n",
    "daily_mean_wind_speed = weather_df['Wind Speed'].resample('D').mean()"
   ]
  },
  {
   "cell_type": "code",
   "execution_count": null,
   "id": "b5473bef-02a7-4964-983a-95db51a5fd36",
   "metadata": {},
   "outputs": [],
   "source": [
    "plt.figure(figsize=(10, 7))\n",
    "daily_mean_temp.plot(color='red', linestyle = '-', marker='o')\n",
    "plt.grid(True)\n",
    "plt.show()"
   ]
  },
  {
   "cell_type": "code",
   "execution_count": null,
   "id": "b24a2d92-04fd-4373-a956-f3df5a5d42d6",
   "metadata": {},
   "outputs": [],
   "source": [
    "plt.figure(figsize=(10, 8))\n",
    "plt.scatter(weather_df['Temperature'], weather_df['humidity'], color='green')\n",
    "plt.grid(True)\n",
    "plt.show()"
   ]
  },
  {
   "cell_type": "code",
   "execution_count": null,
   "id": "d4d1db53-42a6-44fd-8412-497de56cd8b2",
   "metadata": {},
   "outputs": [],
   "source": [
    "import seaborn as sns\n",
    "heatmap_data = weather_df[['Temperature', 'humidity']]\n",
    "sns.heatmap(heatmap_data, annot=True, cmap='coolwarm')\n",
    "plt.title(\"\")\n",
    "plt.xlabel('')\n",
    "plt.ylabel('')\n",
    "plt.show()"
   ]
  },
  {
   "cell_type": "code",
   "execution_count": null,
   "id": "2f32c2f2-5017-4ea0-8953-3cce5b5c8082",
   "metadata": {},
   "outputs": [],
   "source": []
  }
 ],
 "metadata": {
  "kernelspec": {
   "display_name": "Python 3 (ipykernel)",
   "language": "python",
   "name": "python3"
  },
  "language_info": {
   "codemirror_mode": {
    "name": "ipython",
    "version": 3
   },
   "file_extension": ".py",
   "mimetype": "text/x-python",
   "name": "python",
   "nbconvert_exporter": "python",
   "pygments_lexer": "ipython3",
   "version": "3.12.1"
  }
 },
 "nbformat": 4,
 "nbformat_minor": 5
}
