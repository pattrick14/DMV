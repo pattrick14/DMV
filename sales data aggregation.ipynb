{
 "cells": [
  {
   "cell_type": "code",
   "execution_count": null,
   "id": "9f733c52-232a-41c4-9074-d707f1eac0e9",
   "metadata": {},
   "outputs": [],
   "source": [
    "## Analyzing Retail Sales data, Data Aggregation"
   ]
  },
  {
   "cell_type": "code",
   "execution_count": null,
   "id": "02930c01-92da-4807-8e00-800175f735a3",
   "metadata": {},
   "outputs": [],
   "source": [
    "import pandas as pd\n",
    "import matplotlib.pyplot as plt"
   ]
  },
  {
   "cell_type": "code",
   "execution_count": null,
   "id": "4d83d6f6-e03f-471f-a8eb-5d6907e218f7",
   "metadata": {},
   "outputs": [],
   "source": [
    "df = pd.read_csv('customer_shopping_data.csv')\n",
    "df.head()"
   ]
  },
  {
   "cell_type": "code",
   "execution_count": null,
   "id": "d97bf453-1898-46d5-a74b-14ce5b551b95",
   "metadata": {},
   "outputs": [],
   "source": [
    "df.columns"
   ]
  },
  {
   "cell_type": "code",
   "execution_count": null,
   "id": "d0ebaf63-8e68-4398-89cd-10772a3c5788",
   "metadata": {},
   "outputs": [],
   "source": [
    "df.groupby('category').count()"
   ]
  },
  {
   "cell_type": "code",
   "execution_count": null,
   "id": "523e8de3-905a-4a5a-93d4-8d03b2633f42",
   "metadata": {},
   "outputs": [],
   "source": [
    "branch_sales = df.groupby('shopping_mall').sum()\n",
    "branch_sales[['quantity', 'price']]"
   ]
  },
  {
   "cell_type": "code",
   "execution_count": null,
   "id": "18acd696-9612-4d16-b437-c60c0061f452",
   "metadata": {},
   "outputs": [],
   "source": [
    "category_sales = df.groupby('category').sum()\n",
    "category_sales[['quantity', 'price']].sort_values(by='price', ascending=False)"
   ]
  },
  {
   "cell_type": "code",
   "execution_count": null,
   "id": "af3ede29-9cad-4261-9b98-e9502a15e2d1",
   "metadata": {},
   "outputs": [],
   "source": [
    "combined_branch_category = df.groupby(['shopping_mall', 'category']).sum()\n",
    "combined_branch_category[['quantity', 'price']]"
   ]
  },
  {
   "cell_type": "code",
   "execution_count": null,
   "id": "1e9fda90-9989-4320-8d28-7f243cdd272f",
   "metadata": {},
   "outputs": [],
   "source": [
    "plt.pie(branch_sales['price'], labels=branch_sales.index, autopct='%1.1f%%')\n",
    "plt.show()"
   ]
  },
  {
   "cell_type": "code",
   "execution_count": null,
   "id": "46123966-18ba-47a4-8f2e-35b1d32a25c1",
   "metadata": {},
   "outputs": [],
   "source": [
    "combined_pivot = df.pivot_table(index='shopping_mall', columns='category', values='price',\n",
    "                                aggfunc='sum')"
   ]
  },
  {
   "cell_type": "code",
   "execution_count": null,
   "id": "29f556ec-4d18-4268-b48a-813e2aa71b10",
   "metadata": {},
   "outputs": [],
   "source": [
    "combined_pivot.plot(kind='bar')\n",
    "plt.show()"
   ]
  },
  {
   "cell_type": "code",
   "execution_count": null,
   "id": "925ac97b-d5cf-4879-9e3a-6fad22934906",
   "metadata": {},
   "outputs": [],
   "source": []
  }
 ],
 "metadata": {
  "kernelspec": {
   "display_name": "Python 3 (ipykernel)",
   "language": "python",
   "name": "python3"
  },
  "language_info": {
   "codemirror_mode": {
    "name": "ipython",
    "version": 3
   },
   "file_extension": ".py",
   "mimetype": "text/x-python",
   "name": "python",
   "nbconvert_exporter": "python",
   "pygments_lexer": "ipython3",
   "version": "3.12.1"
  }
 },
 "nbformat": 4,
 "nbformat_minor": 5
}
