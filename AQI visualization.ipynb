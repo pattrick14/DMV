{
 "cells": [
  {
   "cell_type": "code",
   "execution_count": null,
   "id": "771ae0ce-e2d8-4492-bd14-857cd6e2ca12",
   "metadata": {},
   "outputs": [],
   "source": [
    "## AQI Data Visualization"
   ]
  },
  {
   "cell_type": "code",
   "execution_count": null,
   "id": "e693085f-66e7-4b7c-bdfb-bbfb97149b3e",
   "metadata": {},
   "outputs": [],
   "source": [
    "import pandas as pd\n",
    "import matplotlib.pyplot as plt\n",
    "import seaborn as sns"
   ]
  },
  {
   "cell_type": "code",
   "execution_count": null,
   "id": "e2421ed9-531e-4c53-933e-689f898a6a23",
   "metadata": {},
   "outputs": [],
   "source": [
    "df = pd.read_csv('City_Air_Quality.csv')\n",
    "df.columns"
   ]
  },
  {
   "cell_type": "code",
   "execution_count": null,
   "id": "df3663d1-5782-4d12-888f-00fd54879e78",
   "metadata": {},
   "outputs": [],
   "source": [
    "df['Date'] = pd.to_datetime(df['Date'])"
   ]
  },
  {
   "cell_type": "code",
   "execution_count": null,
   "id": "9959fd0c-69e2-443d-a8a6-ab31fa86913f",
   "metadata": {},
   "outputs": [],
   "source": [
    "plt.figure(figsize=(10, 7))\n",
    "plt.plot(df['Date'], df['AQI'], label = 'AQI' )\n",
    "plt.legend()\n",
    "plt.grid(True)\n",
    "plt.show()\n"
   ]
  },
  {
   "cell_type": "code",
   "execution_count": null,
   "id": "d626e58e-1d83-41fe-9183-e376c9dd1bb4",
   "metadata": {},
   "outputs": [],
   "source": [
    "plt.figure(figsize=(15, 8))\n",
    "df['Month'] = df['Date'].dt.to_period('M')\n",
    "avg_aqi_per_month = df.groupby('Month')['AQI'].mean().reset_index()\n",
    "plt.bar(avg_aqi_per_month['Month'].astype(str), avg_aqi_per_month['AQI'])\n",
    "plt.xticks(rotation=90)\n",
    "plt.show()"
   ]
  },
  {
   "cell_type": "code",
   "execution_count": null,
   "id": "5a1aa072-46e7-4ec3-8160-8fc0bac78fa0",
   "metadata": {},
   "outputs": [],
   "source": [
    "sns.boxplot(data = df[['PM2.5', 'PM10', 'CO']])\n",
    "plt.show()"
   ]
  },
  {
   "cell_type": "code",
   "execution_count": null,
   "id": "6573f7b3-02f0-4d5e-b6b1-1a5362df37df",
   "metadata": {},
   "outputs": [],
   "source": [
    "plt.figure(figsize=(10,5))\n",
    "plt.scatter(df['PM2.5'], df['AQI'], label='PM2.5', color='red')\n",
    "plt.scatter(df['PM10'], df['AQI'], label = 'PM10', color='green')\n",
    "plt.legend()\n",
    "plt.grid(True)\n",
    "plt.show()"
   ]
  },
  {
   "cell_type": "code",
   "execution_count": null,
   "id": "a5ff9ad3-3c28-4c10-84f3-41e93e95017f",
   "metadata": {},
   "outputs": [],
   "source": []
  }
 ],
 "metadata": {
  "kernelspec": {
   "display_name": "Python 3 (ipykernel)",
   "language": "python",
   "name": "python3"
  },
  "language_info": {
   "codemirror_mode": {
    "name": "ipython",
    "version": 3
   },
   "file_extension": ".py",
   "mimetype": "text/x-python",
   "name": "python",
   "nbconvert_exporter": "python",
   "pygments_lexer": "ipython3",
   "version": "3.12.1"
  }
 },
 "nbformat": 4,
 "nbformat_minor": 5
}
