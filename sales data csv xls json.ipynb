{
 "cells": [
  {
   "cell_type": "code",
   "execution_count": null,
   "id": "084e7af5-743f-4b59-b2fa-46231dd4055f",
   "metadata": {},
   "outputs": [],
   "source": [
    "import pandas as pd\n",
    "import matplotlib.pyplot as plt\n",
    "import seaborn as sns\n",
    "import json\n",
    "from IPython.display import display, JSON"
   ]
  },
  {
   "cell_type": "code",
   "execution_count": null,
   "id": "ed87f1d8-ea2f-48ff-9172-a487d9941901",
   "metadata": {},
   "outputs": [],
   "source": [
    "df = pd.read_csv(\"sales_data_sample.csv\", sep=\",\", encoding='Latin-1')\n",
    "df"
   ]
  },
  {
   "cell_type": "code",
   "execution_count": null,
   "id": "fb4ea49d-46b8-4226-99be-d03710b61199",
   "metadata": {},
   "outputs": [],
   "source": [
    "df.drop_duplicates()"
   ]
  },
  {
   "cell_type": "code",
   "execution_count": null,
   "id": "219e4956-27f8-4982-b86c-37ea079d647f",
   "metadata": {},
   "outputs": [],
   "source": [
    "df.isna().sum()"
   ]
  },
  {
   "cell_type": "code",
   "execution_count": null,
   "id": "19baafb5-fb3c-4110-b1e4-6b093b710684",
   "metadata": {},
   "outputs": [],
   "source": [
    "df = df.dropna(subset=['PRODUCTLINE'])"
   ]
  },
  {
   "cell_type": "code",
   "execution_count": null,
   "id": "9d5c0743-630a-4b52-8f15-4720758031aa",
   "metadata": {},
   "outputs": [],
   "source": [
    "piechart = df['PRODUCTLINE'].value_counts().rename_axis(\"PRODUCTLINE\").reset_index(name='orders')"
   ]
  },
  {
   "cell_type": "code",
   "execution_count": null,
   "id": "01a5713e-0054-413c-a304-f22508eebc0e",
   "metadata": {},
   "outputs": [],
   "source": [
    "plt.figure(figsize=(10,8))\n",
    "plt.pie(piechart.orders, labels=piechart.PRODUCTLINE, startangle=90, autopct='%.1f%%')\n",
    "plt.title(\"The Productline of Orders\")\n",
    "plt.show()"
   ]
  },
  {
   "cell_type": "code",
   "execution_count": null,
   "id": "2d001848-76bc-4fa9-8025-9ccfc89925f2",
   "metadata": {},
   "outputs": [],
   "source": [
    "print(\"Sum of sales: \", df['SALES'].sum())\n",
    "print(\"Max Sales: \", df['SALES'].max())\n",
    "print(\"Min Sales: \", df['SALES'].min())"
   ]
  },
  {
   "cell_type": "code",
   "execution_count": null,
   "id": "58547178-c1b3-42b2-ae25-cee8df8c6dce",
   "metadata": {},
   "outputs": [],
   "source": [
    "sns.set_style('whitegrid')\n",
    "# df.columns\n",
    "sns.boxplot(x='TERRITORY', y='QUANTITYORDERED', data=df)"
   ]
  },
  {
   "cell_type": "code",
   "execution_count": null,
   "id": "44f95f7a-297b-4ba3-9554-5a8c7ad72e4b",
   "metadata": {},
   "outputs": [],
   "source": [
    "## Excel File"
   ]
  },
  {
   "cell_type": "code",
   "execution_count": null,
   "id": "2f8f0c45-a966-4c1e-b488-e14a5a1d6b71",
   "metadata": {},
   "outputs": [],
   "source": [
    "excel_file = pd.read_excel('Sample - Superstore.xls')\n",
    "# excel_file.head()\n",
    "excel_df = pd.DataFrame(excel_file)\n",
    "excel_df"
   ]
  },
  {
   "cell_type": "code",
   "execution_count": null,
   "id": "c8c15017-5ac1-4c4d-99e7-6a26ac4484e3",
   "metadata": {},
   "outputs": [],
   "source": [
    "name = excel_df['Region'].head(42)\n",
    "price = excel_df['Discount'].head(42)"
   ]
  },
  {
   "cell_type": "code",
   "execution_count": null,
   "id": "23c3a6a9-92a5-43d9-b702-1e6961814d58",
   "metadata": {},
   "outputs": [],
   "source": [
    "plt.figure(figsize=(10, 8))\n",
    "plt.bar(name[0:30], price[0:30])\n",
    "plt.show()"
   ]
  },
  {
   "cell_type": "code",
   "execution_count": null,
   "id": "b7dcaff2-ee1d-496c-a0e0-c0254f66bb8c",
   "metadata": {},
   "outputs": [],
   "source": [
    "# json_data = []\n",
    "with open('sales.json', 'r') as f:\n",
    "    data = json.load(f)\n",
    "\n",
    "# Display the JSON data\n",
    "display(JSON(data))"
   ]
  },
  {
   "cell_type": "code",
   "execution_count": null,
   "id": "59b22884-e5a1-487f-a3b8-6b0a356a55eb",
   "metadata": {},
   "outputs": [],
   "source": [
    "# Convert JSON data to pandas DataFrame\n",
    "df = pd.json_normalize(data)"
   ]
  },
  {
   "cell_type": "code",
   "execution_count": null,
   "id": "297ea99f-42c6-427b-93b3-7b2d9d4ff274",
   "metadata": {},
   "outputs": [],
   "source": [
    "df.head()"
   ]
  },
  {
   "cell_type": "code",
   "execution_count": null,
   "id": "203fdb22-b45a-4556-9c40-ee39128162c1",
   "metadata": {},
   "outputs": [],
   "source": [
    "df.columns"
   ]
  },
  {
   "cell_type": "code",
   "execution_count": null,
   "id": "f9484d13-b157-4d12-9f4a-888a672bb43b",
   "metadata": {},
   "outputs": [],
   "source": [
    "df.shape"
   ]
  },
  {
   "cell_type": "code",
   "execution_count": null,
   "id": "598ddd1b-b97b-4049-ad53-1ded29af1ca5",
   "metadata": {},
   "outputs": [],
   "source": [
    "df['ProductId'].unique()"
   ]
  },
  {
   "cell_type": "code",
   "execution_count": null,
   "id": "d606eb7c-facf-483d-948b-7451249e5de3",
   "metadata": {},
   "outputs": [],
   "source": [
    "# Assuming df is your DataFrame\n",
    "df_grouped = df.groupby('ProductId')['Quantity'].sum().reset_index()\n",
    "\n",
    "plt.figure(figsize=(10, 8))\n",
    "plt.scatter(df_grouped['ProductId'], df_grouped['Quantity'])\n",
    "plt.xlabel('Product ID')\n",
    "plt.ylabel('Total Quantity Ordered')\n",
    "plt.show()"
   ]
  },
  {
   "cell_type": "code",
   "execution_count": null,
   "id": "c855ae4a-ea92-4705-96c0-2442a345073b",
   "metadata": {},
   "outputs": [],
   "source": [
    "# Create a histogram of the 'quantity' column\n",
    "plt.hist(df['Quantity'], bins=5, edgecolor='black')\n",
    "plt.title('Histogram of Quantity')\n",
    "plt.xlabel('Quantity')\n",
    "plt.ylabel('Frequency')\n",
    "plt.show()"
   ]
  },
  {
   "cell_type": "code",
   "execution_count": null,
   "id": "89f0e22a-0da6-4423-9544-7ad587367a43",
   "metadata": {},
   "outputs": [],
   "source": []
  }
 ],
 "metadata": {
  "kernelspec": {
   "display_name": "Python 3 (ipykernel)",
   "language": "python",
   "name": "python3"
  },
  "language_info": {
   "codemirror_mode": {
    "name": "ipython",
    "version": 3
   },
   "file_extension": ".py",
   "mimetype": "text/x-python",
   "name": "python",
   "nbconvert_exporter": "python",
   "pygments_lexer": "ipython3",
   "version": "3.12.1"
  }
 },
 "nbformat": 4,
 "nbformat_minor": 5
}
